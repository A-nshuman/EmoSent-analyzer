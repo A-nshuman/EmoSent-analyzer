{
 "cells": [
  {
   "cell_type": "markdown",
   "metadata": {},
   "source": [
    "## Importing Libraries"
   ]
  },
  {
   "cell_type": "code",
   "execution_count": 2,
   "metadata": {},
   "outputs": [],
   "source": [
    "from textblob import TextBlob\n",
    "from transformers import pipeline\n",
    "import matplotlib.pyplot as plt"
   ]
  },
  {
   "cell_type": "markdown",
   "metadata": {},
   "source": [
    "## Declaring Sample Text"
   ]
  },
  {
   "cell_type": "code",
   "execution_count": 3,
   "metadata": {},
   "outputs": [],
   "source": [
    "text = \"\"\"One of social psychologists’ greatest passions is scouring human behavior for its many failures of rationality and perception, the systematic biases that push us off track. “Negativity bias,” the tendency for negative information and experiences to overwhelm the positive, kept coming up. As early as 1967, psychologist Marjorie Richey and co-authors concluded that university students, given paragraphs describing a stranger’s personality, were influenced more by negative descriptions than positive ones. In 1982, Teresa Amabile and Ann Glazebrook proposed that there might be a general “bias toward negativity in evaluations of persons or their work,” noting that already by that point, a number of other studies had found the same.\"\"\""
   ]
  },
  {
   "cell_type": "markdown",
   "metadata": {},
   "source": [
    "## Getting Sentiment of the sentence (negative, neutral, positive)"
   ]
  },
  {
   "cell_type": "code",
   "execution_count": 4,
   "metadata": {},
   "outputs": [],
   "source": [
    "blob = TextBlob(text)\n",
    "senti = blob.sentiment.polarity\n",
    "\n",
    "if senti < 0:\n",
    "    sentiment = 'negative'\n",
    "elif senti > 0:\n",
    "    sentiment = 'positive'\n",
    "else:\n",
    "    sentiment = 'netural'"
   ]
  },
  {
   "cell_type": "markdown",
   "metadata": {},
   "source": [
    "## Getting Emotion of sentence"
   ]
  },
  {
   "cell_type": "code",
   "execution_count": 5,
   "metadata": {},
   "outputs": [],
   "source": [
    "# classifier = pipeline(\"text-classification\", model=\"j-hartmann/emotion-english-distilroberta-base\", return_all_scores=True)\n",
    "# output = classifier(text)\n",
    "\n",
    "# high_score = 0\n",
    "# emotion = ''\n",
    "\n",
    "# for dict in output[0]:\n",
    "#     if dict['score'] > high_score:\n",
    "#         high_score = dict['score']\n",
    "#         emotion = dict['label']\n",
    "#     else:\n",
    "#         continue"
   ]
  },
  {
   "cell_type": "markdown",
   "metadata": {},
   "source": [
    "## Model with more emotions"
   ]
  },
  {
   "cell_type": "code",
   "execution_count": 6,
   "metadata": {},
   "outputs": [
    {
     "name": "stdout",
     "output_type": "stream",
     "text": [
      "0.8011133670806885\n"
     ]
    }
   ],
   "source": [
    "classifier = pipeline(task=\"text-classification\", model=\"SamLowe/roberta-base-go_emotions\", top_k=None)\n",
    "\n",
    "model_outputs = classifier(text)\n",
    "\n",
    "high_score_1 = 0\n",
    "emotion_1 = ''\n",
    "\n",
    "for dict in model_outputs[0]:\n",
    "    if dict['score'] > high_score_1:\n",
    "        high_score_1 = dict['score']\n",
    "        emotion_1 = dict['label']\n",
    "    else:\n",
    "        continue\n",
    "\n",
    "print(high_score_1)"
   ]
  },
  {
   "cell_type": "markdown",
   "metadata": {},
   "source": [
    "## Plotting Graph"
   ]
  },
  {
   "cell_type": "code",
   "execution_count": 10,
   "metadata": {},
   "outputs": [
    {
     "data": {
      "image/png": "[encoded data removed]",
      "text/plain": [
       "<Figure size 1000x100 with 1 Axes>"
      ]
     },
     "metadata": {},
     "output_type": "display_data"
    }
   ],
   "source": [
    "if sentiment == 'positive':\n",
    "    col = \"#b3d23e\"\n",
    "elif sentiment == 'negative':\n",
    "    col = \"#FF6666\"\n",
    "\n",
    "fig, ax = plt.subplots(figsize=(10, 1))\n",
    "ax.barh(y=0, width=senti, height=2, color=col)\n",
    "\n",
    "ax.set_xlim(-1, 1)\n",
    "ax.set_ylim(-1, 1)\n",
    "\n",
    "ax.grid(True)\n",
    "\n",
    "ax.axvline(0, color='black', linewidth=0.5)\n",
    "\n",
    "ax.set_title('Graphical Representation of Sentiment')\n",
    "ax.set_xlabel('Value')\n",
    "ax.get_yaxis().set_visible(False)\n",
    "\n",
    "ax.text(senti, 0, f'{senti:.2f}', color='black', va='center', ha='left' if senti < 0 else 'right')\n",
    "plt.show()"
   ]
  },
  {
   "cell_type": "markdown",
   "metadata": {},
   "source": [
    "## Output"
   ]
  },
  {
   "cell_type": "code",
   "execution_count": 8,
   "metadata": {},
   "outputs": [
    {
     "name": "stdout",
     "output_type": "stream",
     "text": [
      "Sentiment = positive 0.14714452214452212\n",
      "Emotion = neutral\n"
     ]
    }
   ],
   "source": [
    "print(\"Sentiment =\", sentiment, senti)\n",
    "print(\"Emotion =\", emotion_1)"
   ]
  }
 ],
 "metadata": {
  "kernelspec": {
   "display_name": ".venv",
   "language": "python",
   "name": "python3"
  },
  "language_info": {
   "codemirror_mode": {
    "name": "ipython",
    "version": 3
   },
   "file_extension": ".py",
   "mimetype": "text/x-python",
   "name": "python",
   "nbconvert_exporter": "python",
   "pygments_lexer": "ipython3",
   "version": "3.11.7"
  }
 },
 "nbformat": 4,
 "nbformat_minor": 2
}
